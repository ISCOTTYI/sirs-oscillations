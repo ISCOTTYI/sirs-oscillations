{
 "cells": [
  {
   "cell_type": "code",
   "execution_count": 11,
   "metadata": {},
   "outputs": [],
   "source": [
    "from sympy import *"
   ]
  },
  {
   "cell_type": "code",
   "execution_count": 64,
   "metadata": {},
   "outputs": [],
   "source": [
    "# Define variables\n",
    "I = Symbol('I', real=True)\n",
    "R = IndexedBase('R', real=True)\n",
    "beta = Symbol(\"beta\", real=True, positive=True)\n",
    "rho = Symbol(\"rho\", real=True, positive=True)\n",
    "T = Symbol('T', real=True, positive=True)\n",
    "m = symbols('m', cls=Idx)\n",
    "\n",
    "def generate_flow(N: int):\n",
    "    flow = [beta * I * (1 - I - Sum(R[m], (m, 1, N))).doit() - rho * I, # I'\n",
    "            rho * I - N/T * R[1]]                                       # R_1'\n",
    "    for mm in range(2, N+1):\n",
    "        flow += [(R[mm-1] - R[mm]) * N/T]                               # R_m'\n",
    "    return Matrix(flow)\n",
    "\n",
    "def var_vec(N: int):\n",
    "    return Matrix([I, *(R[mm] for mm in range(1, N+1))])"
   ]
  },
  {
   "cell_type": "markdown",
   "metadata": {},
   "source": [
    "# Fixpoints"
   ]
  },
  {
   "cell_type": "code",
   "execution_count": 83,
   "metadata": {},
   "outputs": [
    {
     "data": {
      "text/plain": [
       "[{I: 0, R[1]: 0, R[2]: 0, R[3]: 0, R[4]: 0, R[5]: 0},\n",
       " {I: (beta - rho)/(beta*(T*rho + 1)),\n",
       "  R[1]: T*rho*(beta - rho)/(5*beta*(T*rho + 1)),\n",
       "  R[2]: T*rho*(beta - rho)/(5*beta*(T*rho + 1)),\n",
       "  R[3]: T*rho*(beta - rho)/(5*beta*(T*rho + 1)),\n",
       "  R[4]: T*rho*(beta - rho)/(5*beta*(T*rho + 1)),\n",
       "  R[5]: T*rho*(beta - rho)/(5*beta*(T*rho + 1))}]"
      ]
     },
     "metadata": {},
     "output_type": "display_data"
    }
   ],
   "source": [
    "def flow_to_eq(flow: Matrix):\n",
    "    return [Eq(f, 0) for f in flow]\n",
    "\n",
    "def find_fixpoints(N: int):\n",
    "    sys = flow_to_eq(generate_flow(N))\n",
    "    return solve(sys, var_vec(N), dict=True)\n",
    "\n",
    "\n",
    "N = 5\n",
    "display(find_fixpoints(N))"
   ]
  },
  {
   "cell_type": "markdown",
   "metadata": {},
   "source": [
    "# Jacobian"
   ]
  },
  {
   "cell_type": "code",
   "execution_count": 84,
   "metadata": {},
   "outputs": [
    {
     "data": {
      "text/latex": [
       "$\\displaystyle \\left[\\begin{matrix}\\frac{- \\beta + \\rho}{T \\rho + 1} & \\frac{- \\beta + \\rho}{T \\rho + 1} & \\frac{- \\beta + \\rho}{T \\rho + 1} & \\frac{- \\beta + \\rho}{T \\rho + 1}\\\\\\rho & - \\frac{3}{T} & 0 & 0\\\\0 & \\frac{3}{T} & - \\frac{3}{T} & 0\\\\0 & 0 & \\frac{3}{T} & - \\frac{3}{T}\\end{matrix}\\right]$"
      ],
      "text/plain": [
       "Matrix([\n",
       "[(-beta + rho)/(T*rho + 1), (-beta + rho)/(T*rho + 1), (-beta + rho)/(T*rho + 1), (-beta + rho)/(T*rho + 1)],\n",
       "[                      rho,                      -3/T,                         0,                         0],\n",
       "[                        0,                       3/T,                      -3/T,                         0],\n",
       "[                        0,                         0,                       3/T,                      -3/T]])"
      ]
     },
     "execution_count": 84,
     "metadata": {},
     "output_type": "execute_result"
    }
   ],
   "source": [
    "N = 3\n",
    "J = generate_flow(N).jacobian(var_vec(N))\n",
    "simplify(J.subs(find_fixpoints(N)[1]))"
   ]
  }
 ],
 "metadata": {
  "kernelspec": {
   "display_name": "venv",
   "language": "python",
   "name": "python3"
  },
  "language_info": {
   "codemirror_mode": {
    "name": "ipython",
    "version": 3
   },
   "file_extension": ".py",
   "mimetype": "text/x-python",
   "name": "python",
   "nbconvert_exporter": "python",
   "pygments_lexer": "ipython3",
   "version": "3.11.7"
  }
 },
 "nbformat": 4,
 "nbformat_minor": 2
}
