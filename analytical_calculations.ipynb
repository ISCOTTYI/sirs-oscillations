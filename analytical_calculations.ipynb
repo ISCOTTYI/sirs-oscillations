{
 "cells": [
  {
   "cell_type": "code",
   "execution_count": 26,
   "metadata": {},
   "outputs": [],
   "source": [
    "import sympy as sp\n",
    "from sympy import symbols, Eq, Sum, Symbol, IndexedBase, solve, Matrix, Eq, Idx"
   ]
  },
  {
   "cell_type": "markdown",
   "metadata": {},
   "source": [
    "# Most General Kernel"
   ]
  },
  {
   "cell_type": "markdown",
   "metadata": {},
   "source": [
    "The most general system is given by\n",
    "$$\n",
    "    R(t) = \\sum_{m=1}^N c_m R_m(t).\n",
    "$$\n",
    "For this system the Jacobian reads\n",
    "$$\n",
    "    \\mathbf{J} = \\begin{pmatrix} \\beta (1 - 2 I - R) - \\rho & -\\beta I c_1 & \\dots & -\\beta I c_N \\\\\n",
    "    \\rho & - N/T &  &  \\\\\n",
    "     & N/T & -N/T & \\\\\n",
    "     & & \\ddots & \\ddots\n",
    "    \\end{pmatrix}\n",
    "$$"
   ]
  },
  {
   "cell_type": "markdown",
   "metadata": {},
   "source": [
    "# General Two Step Erlang Sum"
   ]
  },
  {
   "cell_type": "code",
   "execution_count": 27,
   "metadata": {},
   "outputs": [],
   "source": [
    "# Define symbols\n",
    "beta, rho, I, k_1, k_2, T = symbols(\"beta, rho, I, k_1, k_2, T\", real=True)\n",
    "R = IndexedBase('R', real=True)\n",
    "N, N_mid = symbols(\"N, N_mid\", integer=True)\n",
    "m = symbols('m', cls=Idx)\n",
    "\n",
    "def var_vec(N: int):\n",
    "    return Matrix([I, *(R[mm] for mm in range(1, N+1))])"
   ]
  },
  {
   "cell_type": "markdown",
   "metadata": {},
   "source": [
    "The most general case for a two step kernel is\n",
    "$$\n",
    "    R(t) = \\sum_{m=1}^{N} c_m R_m(t) = k_1 \\sum_{m=1}^{N_\\mathrm{mid}}R_m(t) + k_2 \\sum_{m=N_\\mathrm{mid}+1}^{N}R_m(t)\n",
    "$$"
   ]
  },
  {
   "cell_type": "markdown",
   "metadata": {},
   "source": [
    "## Fixpoint"
   ]
  },
  {
   "cell_type": "markdown",
   "metadata": {},
   "source": [
    "The FP is given as the solution of\n",
    "$$\\begin{aligned}\n",
    "    0 &= \\beta I (1 - I - R) - \\rho I \\\\\n",
    "    0 &= \\rho I - \\frac{N}{T} R_1 \\\\\n",
    "    0 &= \\frac{N}{T} (R_{m+1} - R_m).\n",
    "\\end{aligned}$$\n",
    "Therefore,\n",
    "$$\n",
    "    R_m = \\frac{T\\rho}{N} I, \\quad\\qquad m = 1,\\dots, N\n",
    "$$\n",
    "and with that\n",
    "$$\n",
    "    R = \\frac{T\\rho}{N} I \\left[ (k_1 - k_2) N_\\mathrm{mid} + k_2 N \\right]\n",
    "$$"
   ]
  },
  {
   "cell_type": "code",
   "execution_count": 10,
   "metadata": {},
   "outputs": [
    {
     "data": {
      "text/latex": [
       "$\\displaystyle \\frac{N \\left(\\beta - \\rho\\right)}{\\beta \\left(N T k_{2} \\rho + N + N_{mid} T k_{1} \\rho - N_{mid} T k_{2} \\rho\\right)}$"
      ],
      "text/plain": [
       "N*(beta - rho)/(beta*(N*T*k_2*rho + N + N_mid*T*k_1*rho - N_mid*T*k_2*rho))"
      ]
     },
     "execution_count": 10,
     "metadata": {},
     "output_type": "execute_result"
    }
   ],
   "source": [
    "eq = Eq(beta * I * (1 - I - I * T * rho / N * ((k_1 - k_2) * N_mid + k_2 * N)) - rho * I, 0)\n",
    "fp = solve(eq, I)[1]\n",
    "fp"
   ]
  },
  {
   "cell_type": "markdown",
   "metadata": {},
   "source": [
    "## Jacobian"
   ]
  },
  {
   "cell_type": "code",
   "execution_count": 29,
   "metadata": {},
   "outputs": [
    {
     "data": {
      "text/latex": [
       "$\\displaystyle - I \\beta \\sum_{m=1}^{N} \\delta_{2 m}$"
      ],
      "text/plain": [
       "-I*beta*Sum(KroneckerDelta(2, m), (m, 1, N))"
      ]
     },
     "execution_count": 29,
     "metadata": {},
     "output_type": "execute_result"
    }
   ],
   "source": [
    "sp.diff(beta * I * (1 - I - sp.Sum(R[m], (m, 1, N))) - rho * I, R[2])"
   ]
  },
  {
   "cell_type": "code",
   "execution_count": 24,
   "metadata": {},
   "outputs": [
    {
     "data": {
      "text/latex": [
       "$\\displaystyle \\left[\\begin{array}{ccccccccccc}- \\frac{N \\left(\\beta - \\rho\\right)}{N T k_{2} \\rho + N + N_{mid} T k_{1} \\rho - N_{mid} T k_{2} \\rho} + \\beta \\left(- \\frac{N \\left(\\beta - \\rho\\right)}{\\beta \\left(N T k_{2} \\rho + N + N_{mid} T k_{1} \\rho - N_{mid} T k_{2} \\rho\\right)} - k_{1} \\sum_{m=1}^{N_{mid}} {R}_{m} - k_{2} \\sum_{m=N_{mid} + 1}^{10} {R}_{m} + 1\\right) - \\rho & \\frac{N \\left(\\beta - \\rho\\right) \\left(- k_{1} \\left(\\begin{cases} 1 & \\text{for}\\: N_{mid} \\geq 1 \\\\0 & \\text{otherwise} \\end{cases}\\right) - k_{2} \\left(\\begin{cases} 1 & \\text{for}\\: N_{mid} \\leq 0 \\\\0 & \\text{otherwise} \\end{cases}\\right)\\right)}{N T k_{2} \\rho + N + N_{mid} T k_{1} \\rho - N_{mid} T k_{2} \\rho} & \\frac{N \\left(\\beta - \\rho\\right) \\left(- k_{1} \\left(\\begin{cases} 1 & \\text{for}\\: N_{mid} \\geq 2 \\\\0 & \\text{otherwise} \\end{cases}\\right) - k_{2} \\left(\\begin{cases} 1 & \\text{for}\\: N_{mid} \\leq 1 \\\\0 & \\text{otherwise} \\end{cases}\\right)\\right)}{N T k_{2} \\rho + N + N_{mid} T k_{1} \\rho - N_{mid} T k_{2} \\rho} & \\frac{N \\left(\\beta - \\rho\\right) \\left(- k_{1} \\left(\\begin{cases} 1 & \\text{for}\\: N_{mid} \\geq 3 \\\\0 & \\text{otherwise} \\end{cases}\\right) - k_{2} \\left(\\begin{cases} 1 & \\text{for}\\: N_{mid} \\leq 2 \\\\0 & \\text{otherwise} \\end{cases}\\right)\\right)}{N T k_{2} \\rho + N + N_{mid} T k_{1} \\rho - N_{mid} T k_{2} \\rho} & \\frac{N \\left(\\beta - \\rho\\right) \\left(- k_{1} \\left(\\begin{cases} 1 & \\text{for}\\: N_{mid} \\geq 4 \\\\0 & \\text{otherwise} \\end{cases}\\right) - k_{2} \\left(\\begin{cases} 1 & \\text{for}\\: N_{mid} \\leq 3 \\\\0 & \\text{otherwise} \\end{cases}\\right)\\right)}{N T k_{2} \\rho + N + N_{mid} T k_{1} \\rho - N_{mid} T k_{2} \\rho} & \\frac{N \\left(\\beta - \\rho\\right) \\left(- k_{1} \\left(\\begin{cases} 1 & \\text{for}\\: N_{mid} \\geq 5 \\\\0 & \\text{otherwise} \\end{cases}\\right) - k_{2} \\left(\\begin{cases} 1 & \\text{for}\\: N_{mid} \\leq 4 \\\\0 & \\text{otherwise} \\end{cases}\\right)\\right)}{N T k_{2} \\rho + N + N_{mid} T k_{1} \\rho - N_{mid} T k_{2} \\rho} & \\frac{N \\left(\\beta - \\rho\\right) \\left(- k_{1} \\left(\\begin{cases} 1 & \\text{for}\\: N_{mid} \\geq 6 \\\\0 & \\text{otherwise} \\end{cases}\\right) - k_{2} \\left(\\begin{cases} 1 & \\text{for}\\: N_{mid} \\leq 5 \\\\0 & \\text{otherwise} \\end{cases}\\right)\\right)}{N T k_{2} \\rho + N + N_{mid} T k_{1} \\rho - N_{mid} T k_{2} \\rho} & \\frac{N \\left(\\beta - \\rho\\right) \\left(- k_{1} \\left(\\begin{cases} 1 & \\text{for}\\: N_{mid} \\geq 7 \\\\0 & \\text{otherwise} \\end{cases}\\right) - k_{2} \\left(\\begin{cases} 1 & \\text{for}\\: N_{mid} \\leq 6 \\\\0 & \\text{otherwise} \\end{cases}\\right)\\right)}{N T k_{2} \\rho + N + N_{mid} T k_{1} \\rho - N_{mid} T k_{2} \\rho} & \\frac{N \\left(\\beta - \\rho\\right) \\left(- k_{1} \\left(\\begin{cases} 1 & \\text{for}\\: N_{mid} \\geq 8 \\\\0 & \\text{otherwise} \\end{cases}\\right) - k_{2} \\left(\\begin{cases} 1 & \\text{for}\\: N_{mid} \\leq 7 \\\\0 & \\text{otherwise} \\end{cases}\\right)\\right)}{N T k_{2} \\rho + N + N_{mid} T k_{1} \\rho - N_{mid} T k_{2} \\rho} & \\frac{N \\left(\\beta - \\rho\\right) \\left(- k_{1} \\left(\\begin{cases} 1 & \\text{for}\\: N_{mid} \\geq 9 \\\\0 & \\text{otherwise} \\end{cases}\\right) - k_{2} \\left(\\begin{cases} 1 & \\text{for}\\: N_{mid} \\leq 8 \\\\0 & \\text{otherwise} \\end{cases}\\right)\\right)}{N T k_{2} \\rho + N + N_{mid} T k_{1} \\rho - N_{mid} T k_{2} \\rho} & \\frac{N \\left(\\beta - \\rho\\right) \\left(- k_{1} \\left(\\begin{cases} 1 & \\text{for}\\: N_{mid} \\geq 10 \\\\0 & \\text{otherwise} \\end{cases}\\right) - k_{2} \\left(\\begin{cases} 1 & \\text{for}\\: N_{mid} \\leq 9 \\\\0 & \\text{otherwise} \\end{cases}\\right)\\right)}{N T k_{2} \\rho + N + N_{mid} T k_{1} \\rho - N_{mid} T k_{2} \\rho}\\\\\\rho & - \\frac{10}{T} & 0 & 0 & 0 & 0 & 0 & 0 & 0 & 0 & 0\\\\0 & \\frac{10}{T} & - \\frac{10}{T} & 0 & 0 & 0 & 0 & 0 & 0 & 0 & 0\\\\0 & 0 & \\frac{10}{T} & - \\frac{10}{T} & 0 & 0 & 0 & 0 & 0 & 0 & 0\\\\0 & 0 & 0 & \\frac{10}{T} & - \\frac{10}{T} & 0 & 0 & 0 & 0 & 0 & 0\\\\0 & 0 & 0 & 0 & \\frac{10}{T} & - \\frac{10}{T} & 0 & 0 & 0 & 0 & 0\\\\0 & 0 & 0 & 0 & 0 & \\frac{10}{T} & - \\frac{10}{T} & 0 & 0 & 0 & 0\\\\0 & 0 & 0 & 0 & 0 & 0 & \\frac{10}{T} & - \\frac{10}{T} & 0 & 0 & 0\\\\0 & 0 & 0 & 0 & 0 & 0 & 0 & \\frac{10}{T} & - \\frac{10}{T} & 0 & 0\\\\0 & 0 & 0 & 0 & 0 & 0 & 0 & 0 & \\frac{10}{T} & - \\frac{10}{T} & 0\\\\0 & 0 & 0 & 0 & 0 & 0 & 0 & 0 & 0 & \\frac{10}{T} & - \\frac{10}{T}\\end{array}\\right]$"
      ],
      "text/plain": [
       "Matrix([\n",
       "[-N*(beta - rho)/(N*T*k_2*rho + N + N_mid*T*k_1*rho - N_mid*T*k_2*rho) + beta*(-N*(beta - rho)/(beta*(N*T*k_2*rho + N + N_mid*T*k_1*rho - N_mid*T*k_2*rho)) - k_1*Sum(R[m], (m, 1, N_mid)) - k_2*Sum(R[m], (m, N_mid + 1, 10)) + 1) - rho, N*(beta - rho)*(-k_1*Piecewise((1, N_mid >= 1), (0, True)) - k_2*Piecewise((1, N_mid <= 0), (0, True)))/(N*T*k_2*rho + N + N_mid*T*k_1*rho - N_mid*T*k_2*rho), N*(beta - rho)*(-k_1*Piecewise((1, N_mid >= 2), (0, True)) - k_2*Piecewise((1, N_mid <= 1), (0, True)))/(N*T*k_2*rho + N + N_mid*T*k_1*rho - N_mid*T*k_2*rho), N*(beta - rho)*(-k_1*Piecewise((1, N_mid >= 3), (0, True)) - k_2*Piecewise((1, N_mid <= 2), (0, True)))/(N*T*k_2*rho + N + N_mid*T*k_1*rho - N_mid*T*k_2*rho), N*(beta - rho)*(-k_1*Piecewise((1, N_mid >= 4), (0, True)) - k_2*Piecewise((1, N_mid <= 3), (0, True)))/(N*T*k_2*rho + N + N_mid*T*k_1*rho - N_mid*T*k_2*rho), N*(beta - rho)*(-k_1*Piecewise((1, N_mid >= 5), (0, True)) - k_2*Piecewise((1, N_mid <= 4), (0, True)))/(N*T*k_2*rho + N + N_mid*T*k_1*rho - N_mid*T*k_2*rho), N*(beta - rho)*(-k_1*Piecewise((1, N_mid >= 6), (0, True)) - k_2*Piecewise((1, N_mid <= 5), (0, True)))/(N*T*k_2*rho + N + N_mid*T*k_1*rho - N_mid*T*k_2*rho), N*(beta - rho)*(-k_1*Piecewise((1, N_mid >= 7), (0, True)) - k_2*Piecewise((1, N_mid <= 6), (0, True)))/(N*T*k_2*rho + N + N_mid*T*k_1*rho - N_mid*T*k_2*rho), N*(beta - rho)*(-k_1*Piecewise((1, N_mid >= 8), (0, True)) - k_2*Piecewise((1, N_mid <= 7), (0, True)))/(N*T*k_2*rho + N + N_mid*T*k_1*rho - N_mid*T*k_2*rho), N*(beta - rho)*(-k_1*Piecewise((1, N_mid >= 9), (0, True)) - k_2*Piecewise((1, N_mid <= 8), (0, True)))/(N*T*k_2*rho + N + N_mid*T*k_1*rho - N_mid*T*k_2*rho), N*(beta - rho)*(-k_1*Piecewise((1, N_mid >= 10), (0, True)) - k_2*Piecewise((1, N_mid <= 9), (0, True)))/(N*T*k_2*rho + N + N_mid*T*k_1*rho - N_mid*T*k_2*rho)],\n",
       "[                                                                                                                                                                                                                                     rho,                                                                                                                                                         -10/T,                                                                                                                                                             0,                                                                                                                                                             0,                                                                                                                                                             0,                                                                                                                                                             0,                                                                                                                                                             0,                                                                                                                                                             0,                                                                                                                                                             0,                                                                                                                                                             0,                                                                                                                                                              0],\n",
       "[                                                                                                                                                                                                                                       0,                                                                                                                                                          10/T,                                                                                                                                                         -10/T,                                                                                                                                                             0,                                                                                                                                                             0,                                                                                                                                                             0,                                                                                                                                                             0,                                                                                                                                                             0,                                                                                                                                                             0,                                                                                                                                                             0,                                                                                                                                                              0],\n",
       "[                                                                                                                                                                                                                                       0,                                                                                                                                                             0,                                                                                                                                                          10/T,                                                                                                                                                         -10/T,                                                                                                                                                             0,                                                                                                                                                             0,                                                                                                                                                             0,                                                                                                                                                             0,                                                                                                                                                             0,                                                                                                                                                             0,                                                                                                                                                              0],\n",
       "[                                                                                                                                                                                                                                       0,                                                                                                                                                             0,                                                                                                                                                             0,                                                                                                                                                          10/T,                                                                                                                                                         -10/T,                                                                                                                                                             0,                                                                                                                                                             0,                                                                                                                                                             0,                                                                                                                                                             0,                                                                                                                                                             0,                                                                                                                                                              0],\n",
       "[                                                                                                                                                                                                                                       0,                                                                                                                                                             0,                                                                                                                                                             0,                                                                                                                                                             0,                                                                                                                                                          10/T,                                                                                                                                                         -10/T,                                                                                                                                                             0,                                                                                                                                                             0,                                                                                                                                                             0,                                                                                                                                                             0,                                                                                                                                                              0],\n",
       "[                                                                                                                                                                                                                                       0,                                                                                                                                                             0,                                                                                                                                                             0,                                                                                                                                                             0,                                                                                                                                                             0,                                                                                                                                                          10/T,                                                                                                                                                         -10/T,                                                                                                                                                             0,                                                                                                                                                             0,                                                                                                                                                             0,                                                                                                                                                              0],\n",
       "[                                                                                                                                                                                                                                       0,                                                                                                                                                             0,                                                                                                                                                             0,                                                                                                                                                             0,                                                                                                                                                             0,                                                                                                                                                             0,                                                                                                                                                          10/T,                                                                                                                                                         -10/T,                                                                                                                                                             0,                                                                                                                                                             0,                                                                                                                                                              0],\n",
       "[                                                                                                                                                                                                                                       0,                                                                                                                                                             0,                                                                                                                                                             0,                                                                                                                                                             0,                                                                                                                                                             0,                                                                                                                                                             0,                                                                                                                                                             0,                                                                                                                                                          10/T,                                                                                                                                                         -10/T,                                                                                                                                                             0,                                                                                                                                                              0],\n",
       "[                                                                                                                                                                                                                                       0,                                                                                                                                                             0,                                                                                                                                                             0,                                                                                                                                                             0,                                                                                                                                                             0,                                                                                                                                                             0,                                                                                                                                                             0,                                                                                                                                                             0,                                                                                                                                                          10/T,                                                                                                                                                         -10/T,                                                                                                                                                              0],\n",
       "[                                                                                                                                                                                                                                       0,                                                                                                                                                             0,                                                                                                                                                             0,                                                                                                                                                             0,                                                                                                                                                             0,                                                                                                                                                             0,                                                                                                                                                             0,                                                                                                                                                             0,                                                                                                                                                             0,                                                                                                                                                          10/T,                                                                                                                                                          -10/T]])"
      ]
     },
     "execution_count": 24,
     "metadata": {},
     "output_type": "execute_result"
    }
   ],
   "source": [
    "def generate_flow(N: int):\n",
    "    RR = k_1 * Sum(R[m], (m, 1, N_mid)) + k_2 * Sum(R[m], (m, N_mid+1, N))\n",
    "    flow = [beta * I * (1 - I - RR) - rho * I,\n",
    "            rho * I - N/T * R[1]]\n",
    "    for mm in range(2, N+1):\n",
    "        flow += [(R[mm-1] - R[mm]) * N/T]\n",
    "    return Matrix(flow)\n",
    "\n",
    "J = generate_flow(10).jacobian(var_vec(10))\n",
    "s = {R[mm]: T * rho / 10 * fp for mm in range(1, 10+1)}\n",
    "s.update({I: fp})\n",
    "J.subs(s)"
   ]
  },
  {
   "cell_type": "markdown",
   "metadata": {},
   "source": [
    "# Block Kernel"
   ]
  },
  {
   "cell_type": "code",
   "execution_count": 42,
   "metadata": {},
   "outputs": [],
   "source": [
    "# Define variables\n",
    "I = Symbol('I', real=True)\n",
    "R = IndexedBase('R', real=True)\n",
    "c = IndexedBase('c', real=True)\n",
    "beta = Symbol(\"beta\", real=True, positive=True)\n",
    "rho = Symbol(\"rho\", real=True, positive=True)\n",
    "T = Symbol('T', real=True, positive=True)\n",
    "m = symbols('m', cls=Idx)\n",
    "\n",
    "def generate_flow(N: int):\n",
    "    flow = [beta * I * (1 - I - Sum(R[m], (m, 1, N))).doit() - rho * I, # I'\n",
    "            rho * I - N/T * R[1]]                                       # R_1'\n",
    "    for mm in range(2, N+1):\n",
    "        flow += [(R[mm-1] - R[mm]) * N/T]                               # R_m'\n",
    "    return Matrix(flow)\n",
    "\n",
    "def var_vec(N: int):\n",
    "    return Matrix([I, *(R[mm] for mm in range(1, N+1))])"
   ]
  },
  {
   "cell_type": "markdown",
   "metadata": {},
   "source": [
    "## Fixpoints"
   ]
  },
  {
   "cell_type": "code",
   "execution_count": 43,
   "metadata": {},
   "outputs": [
    {
     "data": {
      "text/plain": [
       "[{I: 0, R[1]: 0, R[2]: 0, R[3]: 0, R[4]: 0, R[5]: 0},\n",
       " {I: (beta - rho)/(beta*(T*rho + 1)),\n",
       "  R[1]: T*rho*(beta - rho)/(5*beta*(T*rho + 1)),\n",
       "  R[2]: T*rho*(beta - rho)/(5*beta*(T*rho + 1)),\n",
       "  R[3]: T*rho*(beta - rho)/(5*beta*(T*rho + 1)),\n",
       "  R[4]: T*rho*(beta - rho)/(5*beta*(T*rho + 1)),\n",
       "  R[5]: T*rho*(beta - rho)/(5*beta*(T*rho + 1))}]"
      ]
     },
     "metadata": {},
     "output_type": "display_data"
    }
   ],
   "source": [
    "def flow_to_eq(flow: Matrix):\n",
    "    return [Eq(f, 0) for f in flow]\n",
    "\n",
    "def find_fixpoints(N: int):\n",
    "    sys = flow_to_eq(generate_flow(N))\n",
    "    return solve(sys, var_vec(N), dict=True)\n",
    "\n",
    "\n",
    "N = 5\n",
    "display(find_fixpoints(N))"
   ]
  },
  {
   "cell_type": "markdown",
   "metadata": {},
   "source": [
    "## Jacobian"
   ]
  },
  {
   "cell_type": "code",
   "execution_count": 50,
   "metadata": {},
   "outputs": [
    {
     "data": {
      "text/latex": [
       "$\\displaystyle \\left[\\begin{matrix}\\frac{- \\beta + \\rho}{T \\rho + 1} & \\frac{- \\beta + \\rho}{T \\rho + 1} & \\frac{- \\beta + \\rho}{T \\rho + 1} & \\frac{- \\beta + \\rho}{T \\rho + 1}\\\\\\rho & - \\frac{3}{T} & 0 & 0\\\\0 & \\frac{3}{T} & - \\frac{3}{T} & 0\\\\0 & 0 & \\frac{3}{T} & - \\frac{3}{T}\\end{matrix}\\right]$"
      ],
      "text/plain": [
       "Matrix([\n",
       "[(-beta + rho)/(T*rho + 1), (-beta + rho)/(T*rho + 1), (-beta + rho)/(T*rho + 1), (-beta + rho)/(T*rho + 1)],\n",
       "[                      rho,                      -3/T,                         0,                         0],\n",
       "[                        0,                       3/T,                      -3/T,                         0],\n",
       "[                        0,                         0,                       3/T,                      -3/T]])"
      ]
     },
     "execution_count": 50,
     "metadata": {},
     "output_type": "execute_result"
    }
   ],
   "source": [
    "N = 3\n",
    "J = generate_flow(N).jacobian(var_vec(N))\n",
    "sp.simplify(J.subs(find_fixpoints(N)[1]))"
   ]
  },
  {
   "cell_type": "markdown",
   "metadata": {},
   "source": [
    "# Tests"
   ]
  },
  {
   "cell_type": "code",
   "execution_count": 19,
   "metadata": {},
   "outputs": [
    {
     "data": {
      "text/latex": [
       "$\\displaystyle \\left[\\begin{array}{ccccccccccc}- I \\beta + \\beta \\left(- I - \\sum_{m=1}^{4.0} {R}_{m} - 0.5 \\sum_{m=5.0}^{10} {R}_{m} + 1\\right) - \\rho & I \\beta \\left(- \\sum_{m=1}^{4.0} \\delta_{1 m} - 0.5 \\sum_{m=5.0}^{10} \\delta_{1 m}\\right) & I \\beta \\left(- \\sum_{m=1}^{4.0} \\delta_{2 m} - 0.5 \\sum_{m=5.0}^{10} \\delta_{2 m}\\right) & I \\beta \\left(- \\sum_{m=1}^{4.0} \\delta_{3 m} - 0.5 \\sum_{m=5.0}^{10} \\delta_{3 m}\\right) & I \\beta \\left(- \\sum_{m=1}^{4.0} \\delta_{4 m} - 0.5 \\sum_{m=5.0}^{10} \\delta_{4 m}\\right) & I \\beta \\left(- \\sum_{m=1}^{4.0} \\delta_{5 m} - 0.5 \\sum_{m=5.0}^{10} \\delta_{5 m}\\right) & I \\beta \\left(- \\sum_{m=1}^{4.0} \\delta_{6 m} - 0.5 \\sum_{m=5.0}^{10} \\delta_{6 m}\\right) & I \\beta \\left(- \\sum_{m=1}^{4.0} \\delta_{7 m} - 0.5 \\sum_{m=5.0}^{10} \\delta_{7 m}\\right) & I \\beta \\left(- \\sum_{m=1}^{4.0} \\delta_{8 m} - 0.5 \\sum_{m=5.0}^{10} \\delta_{8 m}\\right) & I \\beta \\left(- \\sum_{m=1}^{4.0} \\delta_{9 m} - 0.5 \\sum_{m=5.0}^{10} \\delta_{9 m}\\right) & I \\beta \\left(- \\sum_{m=1}^{4.0} \\delta_{10 m} - 0.5 \\sum_{m=5.0}^{10} \\delta_{10 m}\\right)\\\\\\rho & - \\frac{10}{T} & 0 & 0 & 0 & 0 & 0 & 0 & 0 & 0 & 0\\\\0 & \\frac{10}{T} & - \\frac{10}{T} & 0 & 0 & 0 & 0 & 0 & 0 & 0 & 0\\\\0 & 0 & \\frac{10}{T} & - \\frac{10}{T} & 0 & 0 & 0 & 0 & 0 & 0 & 0\\\\0 & 0 & 0 & \\frac{10}{T} & - \\frac{10}{T} & 0 & 0 & 0 & 0 & 0 & 0\\\\0 & 0 & 0 & 0 & \\frac{10}{T} & - \\frac{10}{T} & 0 & 0 & 0 & 0 & 0\\\\0 & 0 & 0 & 0 & 0 & \\frac{10}{T} & - \\frac{10}{T} & 0 & 0 & 0 & 0\\\\0 & 0 & 0 & 0 & 0 & 0 & \\frac{10}{T} & - \\frac{10}{T} & 0 & 0 & 0\\\\0 & 0 & 0 & 0 & 0 & 0 & 0 & \\frac{10}{T} & - \\frac{10}{T} & 0 & 0\\\\0 & 0 & 0 & 0 & 0 & 0 & 0 & 0 & \\frac{10}{T} & - \\frac{10}{T} & 0\\\\0 & 0 & 0 & 0 & 0 & 0 & 0 & 0 & 0 & \\frac{10}{T} & - \\frac{10}{T}\\end{array}\\right]$"
      ],
      "text/plain": [
       "Matrix([\n",
       "[-I*beta + beta*(-I - Sum(R[m], (m, 1, 4.0)) - 0.5*Sum(R[m], (m, 5.0, 10)) + 1) - rho, I*beta*(-Sum(KroneckerDelta(1, m), (m, 1, 4.0)) - 0.5*Sum(KroneckerDelta(1, m), (m, 5.0, 10))), I*beta*(-Sum(KroneckerDelta(2, m), (m, 1, 4.0)) - 0.5*Sum(KroneckerDelta(2, m), (m, 5.0, 10))), I*beta*(-Sum(KroneckerDelta(3, m), (m, 1, 4.0)) - 0.5*Sum(KroneckerDelta(3, m), (m, 5.0, 10))), I*beta*(-Sum(KroneckerDelta(4, m), (m, 1, 4.0)) - 0.5*Sum(KroneckerDelta(4, m), (m, 5.0, 10))), I*beta*(-Sum(KroneckerDelta(5, m), (m, 1, 4.0)) - 0.5*Sum(KroneckerDelta(5, m), (m, 5.0, 10))), I*beta*(-Sum(KroneckerDelta(6, m), (m, 1, 4.0)) - 0.5*Sum(KroneckerDelta(6, m), (m, 5.0, 10))), I*beta*(-Sum(KroneckerDelta(7, m), (m, 1, 4.0)) - 0.5*Sum(KroneckerDelta(7, m), (m, 5.0, 10))), I*beta*(-Sum(KroneckerDelta(8, m), (m, 1, 4.0)) - 0.5*Sum(KroneckerDelta(8, m), (m, 5.0, 10))), I*beta*(-Sum(KroneckerDelta(9, m), (m, 1, 4.0)) - 0.5*Sum(KroneckerDelta(9, m), (m, 5.0, 10))), I*beta*(-Sum(KroneckerDelta(10, m), (m, 1, 4.0)) - 0.5*Sum(KroneckerDelta(10, m), (m, 5.0, 10)))],\n",
       "[                                                                                 rho,                                                                                          -10/T,                                                                                              0,                                                                                              0,                                                                                              0,                                                                                              0,                                                                                              0,                                                                                              0,                                                                                              0,                                                                                              0,                                                                                                0],\n",
       "[                                                                                   0,                                                                                           10/T,                                                                                          -10/T,                                                                                              0,                                                                                              0,                                                                                              0,                                                                                              0,                                                                                              0,                                                                                              0,                                                                                              0,                                                                                                0],\n",
       "[                                                                                   0,                                                                                              0,                                                                                           10/T,                                                                                          -10/T,                                                                                              0,                                                                                              0,                                                                                              0,                                                                                              0,                                                                                              0,                                                                                              0,                                                                                                0],\n",
       "[                                                                                   0,                                                                                              0,                                                                                              0,                                                                                           10/T,                                                                                          -10/T,                                                                                              0,                                                                                              0,                                                                                              0,                                                                                              0,                                                                                              0,                                                                                                0],\n",
       "[                                                                                   0,                                                                                              0,                                                                                              0,                                                                                              0,                                                                                           10/T,                                                                                          -10/T,                                                                                              0,                                                                                              0,                                                                                              0,                                                                                              0,                                                                                                0],\n",
       "[                                                                                   0,                                                                                              0,                                                                                              0,                                                                                              0,                                                                                              0,                                                                                           10/T,                                                                                          -10/T,                                                                                              0,                                                                                              0,                                                                                              0,                                                                                                0],\n",
       "[                                                                                   0,                                                                                              0,                                                                                              0,                                                                                              0,                                                                                              0,                                                                                              0,                                                                                           10/T,                                                                                          -10/T,                                                                                              0,                                                                                              0,                                                                                                0],\n",
       "[                                                                                   0,                                                                                              0,                                                                                              0,                                                                                              0,                                                                                              0,                                                                                              0,                                                                                              0,                                                                                           10/T,                                                                                          -10/T,                                                                                              0,                                                                                                0],\n",
       "[                                                                                   0,                                                                                              0,                                                                                              0,                                                                                              0,                                                                                              0,                                                                                              0,                                                                                              0,                                                                                              0,                                                                                           10/T,                                                                                          -10/T,                                                                                                0],\n",
       "[                                                                                   0,                                                                                              0,                                                                                              0,                                                                                              0,                                                                                              0,                                                                                              0,                                                                                              0,                                                                                              0,                                                                                              0,                                                                                           10/T,                                                                                            -10/T]])"
      ]
     },
     "execution_count": 19,
     "metadata": {},
     "output_type": "execute_result"
    }
   ],
   "source": [
    "# Define variables\n",
    "I = Symbol('I', real=True)\n",
    "R = IndexedBase('R', real=True)\n",
    "beta = Symbol(\"beta\", real=True, positive=True)\n",
    "rho = Symbol(\"rho\", real=True, positive=True)\n",
    "T = Symbol('T', real=True, positive=True)\n",
    "m = symbols('m', cls=Idx)\n",
    "\n",
    "def generate_flow(N: int):\n",
    "    _R = Sum(R[m], (m, 1, N/2-1)).doit() + 0.5 * Sum(R[m], (m, N/2, N)).doit()\n",
    "    flow = [beta * I * (1 - I - _R) - rho * I, # I'\n",
    "            rho * I - N/T * R[1]]                                       # R_1'\n",
    "    for mm in range(2, N+1):\n",
    "        flow += [(R[mm-1] - R[mm]) * N/T]                               # R_m'\n",
    "    return Matrix(flow)\n",
    "\n",
    "def var_vec(N: int):\n",
    "    return Matrix([I, *(R[mm] for mm in range(1, N+1))])\n",
    "\n",
    "def flow_to_eq(flow: Matrix):\n",
    "    return [Eq(f, 0) for f in flow]\n",
    "\n",
    "def find_fixpoints(N: int):\n",
    "    sys = flow_to_eq(generate_flow(N))\n",
    "    return solve(sys, var_vec(N), dict=True)\n",
    "\n",
    "generate_flow(10).jacobian(var_vec(10))"
   ]
  }
 ],
 "metadata": {
  "kernelspec": {
   "display_name": "venv",
   "language": "python",
   "name": "python3"
  },
  "language_info": {
   "codemirror_mode": {
    "name": "ipython",
    "version": 3
   },
   "file_extension": ".py",
   "mimetype": "text/x-python",
   "name": "python",
   "nbconvert_exporter": "python",
   "pygments_lexer": "ipython3",
   "version": "3.11.9"
  }
 },
 "nbformat": 4,
 "nbformat_minor": 2
}
